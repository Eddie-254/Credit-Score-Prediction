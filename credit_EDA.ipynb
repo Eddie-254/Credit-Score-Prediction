{
 "cells": [
  {
   "cell_type": "markdown",
   "metadata": {},
   "source": [
    "# CREDIT SCORE PREDICTION NOTEBOOK"
   ]
  },
  {
   "cell_type": "markdown",
   "metadata": {},
   "source": [
    "## BUSINESS UNDERSTANDING\n",
    "\n",
    "    In this project, the primary objective is to develop a robust and accurate model that evaluates an individual's creditworthiness. The project involves leveraging machine learning algorithms and statistical analyses to assess a variety of relevant factors, such as financial history, payment behavior, outstanding debts, and other relevant variables. By understanding the intricate relationships between these factors, the predictive model aims to generate a numerical credit score that serves as a reliable indicator of an individual's likelihood to meet their financial obligations. The business value lies in providing financial institutions with an efficient and objective tool for risk assessment, aiding in more informed decision-making during the lending process. This predictive model not only enhances the efficiency of credit evaluations but also contributes to minimizing default risks and optimizing the allocation of resources within the lending ecosystem.\n",
    "\n",
    "\n",
    "\n",
    "\n",
    "\n"
   ]
  },
  {
   "cell_type": "markdown",
   "metadata": {},
   "source": [
    "## DATA UNDERSTANDING\n",
    "\n",
    "The data used in this project was extracted from kaggle.\n"
   ]
  },
  {
   "cell_type": "code",
   "execution_count": 1,
   "metadata": {},
   "outputs": [],
   "source": [
    "import pandas as pd\n",
    "import numpy as np\n",
    "import matplotlib.pyplot as plt\n"
   ]
  },
  {
   "cell_type": "code",
   "execution_count": 3,
   "metadata": {},
   "outputs": [],
   "source": [
    "df = pd.read_csv('Credit-Score-Prediction/loan.csv')"
   ]
  },
  {
   "cell_type": "markdown",
   "metadata": {},
   "source": [
    "### Data Preprocessing\n",
    "\n",
    "The purpose of data preprocessing is to:\n",
    "- Check missing values\n",
    "\n",
    "- Duplicates\n",
    "\n",
    "- display total number of rows"
   ]
  },
  {
   "cell_type": "code",
   "execution_count": 1,
   "metadata": {},
   "outputs": [],
   "source": [
    "# In this cell we will create data preprocessing function\n",
    "\n",
    "class DataInfo():\n",
    "\n",
    "    \"\"\"Class for processing and giving the general information of the data\"\"\"\n",
    "    def __init__(self, data):\n",
    "        # Initializing the primary elements\n",
    "        self.data = data\n",
    "\n",
    "    def data_preprocessing(self):\n",
    "        # Function for checking the missing values\n",
    "        self.missing_values = self.data.isnull().sum().sum()\n",
    "        print(\"Missing Values:\")\n",
    "        print(self.missing_values)\n",
    "        print()\n",
    "\n",
    "        # Check for duplicates\n",
    "        self.duplicates = self.data.duplicated().sum()\n",
    "        print(\"Number of Duplicates:\")\n",
    "        print(self.duplicates)\n",
    "        print()\n",
    "\n",
    "        # Display total number of rows\n",
    "        self.num_rows = self.data.shape[0]\n",
    "        print(\"Total Number of Rows:\", self.num_rows)\n",
    "        print()\n",
    "\n",
    "         # Statistical summary\n",
    "        print(\"Statistical Summary:\")\n",
    "        print(self.data.describe())\n",
    "\n",
    "\n",
    "    def fit_transform(self):\n",
    "        # Function for applying the data_preprocessing function above\n",
    "        \n",
    "        return self.data_preprocessing()"
   ]
  },
  {
   "cell_type": "code",
   "execution_count": null,
   "metadata": {},
   "outputs": [],
   "source": []
  },
  {
   "cell_type": "code",
   "execution_count": null,
   "metadata": {},
   "outputs": [],
   "source": []
  }
 ],
 "metadata": {
  "kernelspec": {
   "display_name": "Python 3",
   "language": "python",
   "name": "python3"
  },
  "language_info": {
   "codemirror_mode": {
    "name": "ipython",
    "version": 3
   },
   "file_extension": ".py",
   "mimetype": "text/x-python",
   "name": "python",
   "nbconvert_exporter": "python",
   "pygments_lexer": "ipython3",
   "version": "3.8.10"
  }
 },
 "nbformat": 4,
 "nbformat_minor": 2
}
