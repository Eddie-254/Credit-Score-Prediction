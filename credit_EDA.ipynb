{
 "cells": [
  {
   "cell_type": "markdown",
   "metadata": {},
   "source": [
    "# CREDIT SCORE PREDICTION NOTEBOOK"
   ]
  },
  {
   "cell_type": "markdown",
   "metadata": {},
   "source": [
    "## BUSINESS UNDERSTANDING\n",
    "\n",
    "    In this project, the primary objective is to develop a robust and accurate model that evaluates an individual's creditworthiness. The project involves leveraging machine learning algorithms and statistical analyses to assess a variety of relevant factors, such as financial history, payment behavior, outstanding debts, and other relevant variables. By understanding the intricate relationships between these factors, the predictive model aims to generate a numerical credit score that serves as a reliable indicator of an individual's likelihood to meet their financial obligations. The business value lies in providing financial institutions with an efficient and objective tool for risk assessment, aiding in more informed decision-making during the lending process. This predictive model not only enhances the efficiency of credit evaluations but also contributes to minimizing default risks and optimizing the allocation of resources within the lending ecosystem.\n",
    "\n",
    "\n",
    "\n",
    "\n",
    "\n"
   ]
  },
  {
   "cell_type": "markdown",
   "metadata": {},
   "source": [
    "## DATA UNDERSTANDING\n",
    "\n",
    "The data used in this project was extracted from kaggle.\n"
   ]
  },
  {
   "cell_type": "code",
<<<<<<< HEAD
   "execution_count": 31,
=======
   "execution_count": 2,
>>>>>>> 1d7e87d7c21010b26f3ccbc1144136437f431fef
   "metadata": {},
   "outputs": [],
   "source": [
    "#import the necessary libraries\n",
    "import pandas as pd\n",
    "import numpy as np\n",
    "import matplotlib.pyplot as plt\n",
    "import seaborn as sns\n",
    "from sklearn.model_selection import train_test_split\n",
    "from sklearn.metrics import accuracy_score, classification_report\n",
    "from sklearn.ensemble import RandomForestClassifier\n",
    "from sklearn.model_selection import StratifiedKFold\n",
    "from sklearn import metrics\n",
    "from sklearn.metrics import confusion_matrix\n",
    "from sklearn.impute import SimpleImputer\n"
   ]
  },
  {
   "cell_type": "code",
<<<<<<< HEAD
   "execution_count": 32,
=======
   "execution_count": 3,
>>>>>>> 1d7e87d7c21010b26f3ccbc1144136437f431fef
   "metadata": {},
   "outputs": [],
   "source": [
    "df = pd.read_csv('loan.csv')"
   ]
  },
  {
   "cell_type": "markdown",
   "metadata": {},
   "source": [
    "### Data Preprocessing\n",
    "\n",
    "The purpose of data preprocessing is to:\n",
    "- Check missing values\n",
    "\n",
    "- Duplicates\n",
    "\n",
    "- display total number of rows"
   ]
  },
  {
   "cell_type": "code",
<<<<<<< HEAD
   "execution_count": 33,
=======
   "execution_count": 4,
>>>>>>> 1d7e87d7c21010b26f3ccbc1144136437f431fef
   "metadata": {},
   "outputs": [],
   "source": [
    "# In this cell we will create data preprocessing function\n",
    "\n",
    "class DataInfo():\n",
    "\n",
    "    \"\"\"Class for processing and giving the general information of the data\"\"\"\n",
    "    # initialize the class\n",
    "    def __init__(self, data):\n",
    "        self.data = data\n",
    "\n",
    "    # calculate percentage of missing values\n",
    "    def calculate_missing_percentage(self):\n",
    "        missing_values_perce = (self.data.isnull().sum()/len(self.data))*100\n",
    "        return missing_values_perce\n",
    "\n",
    "    # Calculate percentage of duplicates\n",
    "    def calculate_duplicates_percentage(self):\n",
    "        duplicated_perce = (self.data.duplicated().sum()/len(self.data))*100\n",
    "        return duplicated_perce\n",
    "\n",
    "    # To displaying shape\n",
    "    def display_shape(self):\n",
    "        shape = self.data.shape\n",
    "        return shape\n",
    "\n",
    "    # Displaying info\n",
    "    def display_info(self):\n",
    "        print(self.data.info())\n",
    "\n",
    "    # Display the description\n",
    "    def display_describe(self):\n",
    "        describe = self.data.describe()\n",
    "        return describe"
   ]
  },
  {
   "cell_type": "code",
<<<<<<< HEAD
   "execution_count": 34,
=======
   "execution_count": 5,
>>>>>>> 1d7e87d7c21010b26f3ccbc1144136437f431fef
   "metadata": {},
   "outputs": [
    {
     "data": {
      "text/html": [
       "<div>\n",
       "<style scoped>\n",
       "    .dataframe tbody tr th:only-of-type {\n",
       "        vertical-align: middle;\n",
       "    }\n",
       "\n",
       "    .dataframe tbody tr th {\n",
       "        vertical-align: top;\n",
       "    }\n",
       "\n",
       "    .dataframe thead th {\n",
       "        text-align: right;\n",
       "    }\n",
       "</style>\n",
       "<table border=\"1\" class=\"dataframe\">\n",
       "  <thead>\n",
       "    <tr style=\"text-align: right;\">\n",
       "      <th></th>\n",
       "      <th>Loan_ID</th>\n",
       "      <th>Gender</th>\n",
       "      <th>Married</th>\n",
       "      <th>Dependents</th>\n",
       "      <th>Education</th>\n",
       "      <th>Self_Employed</th>\n",
       "      <th>ApplicantIncome</th>\n",
       "      <th>CoapplicantIncome</th>\n",
       "      <th>LoanAmount</th>\n",
       "      <th>Loan_Amount_Term</th>\n",
       "      <th>Credit_History</th>\n",
       "      <th>Property_Area</th>\n",
       "      <th>Loan_Status</th>\n",
       "    </tr>\n",
       "  </thead>\n",
       "  <tbody>\n",
       "    <tr>\n",
       "      <th>0</th>\n",
       "      <td>LP001002</td>\n",
       "      <td>Male</td>\n",
       "      <td>No</td>\n",
       "      <td>0</td>\n",
       "      <td>Graduate</td>\n",
       "      <td>No</td>\n",
       "      <td>5849</td>\n",
       "      <td>0.0</td>\n",
       "      <td>NaN</td>\n",
       "      <td>360.0</td>\n",
       "      <td>1.0</td>\n",
       "      <td>Urban</td>\n",
       "      <td>Y</td>\n",
       "    </tr>\n",
       "    <tr>\n",
       "      <th>1</th>\n",
       "      <td>LP001003</td>\n",
       "      <td>Male</td>\n",
       "      <td>Yes</td>\n",
       "      <td>1</td>\n",
       "      <td>Graduate</td>\n",
       "      <td>No</td>\n",
       "      <td>4583</td>\n",
       "      <td>1508.0</td>\n",
       "      <td>128.0</td>\n",
       "      <td>360.0</td>\n",
       "      <td>1.0</td>\n",
       "      <td>Rural</td>\n",
       "      <td>N</td>\n",
       "    </tr>\n",
       "    <tr>\n",
       "      <th>2</th>\n",
       "      <td>LP001005</td>\n",
       "      <td>Male</td>\n",
       "      <td>Yes</td>\n",
       "      <td>0</td>\n",
       "      <td>Graduate</td>\n",
       "      <td>Yes</td>\n",
       "      <td>3000</td>\n",
       "      <td>0.0</td>\n",
       "      <td>66.0</td>\n",
       "      <td>360.0</td>\n",
       "      <td>1.0</td>\n",
       "      <td>Urban</td>\n",
       "      <td>Y</td>\n",
       "    </tr>\n",
       "    <tr>\n",
       "      <th>3</th>\n",
       "      <td>LP001006</td>\n",
       "      <td>Male</td>\n",
       "      <td>Yes</td>\n",
       "      <td>0</td>\n",
       "      <td>Not Graduate</td>\n",
       "      <td>No</td>\n",
       "      <td>2583</td>\n",
       "      <td>2358.0</td>\n",
       "      <td>120.0</td>\n",
       "      <td>360.0</td>\n",
       "      <td>1.0</td>\n",
       "      <td>Urban</td>\n",
       "      <td>Y</td>\n",
       "    </tr>\n",
       "    <tr>\n",
       "      <th>4</th>\n",
       "      <td>LP001008</td>\n",
       "      <td>Male</td>\n",
       "      <td>No</td>\n",
       "      <td>0</td>\n",
       "      <td>Graduate</td>\n",
       "      <td>No</td>\n",
       "      <td>6000</td>\n",
       "      <td>0.0</td>\n",
       "      <td>141.0</td>\n",
       "      <td>360.0</td>\n",
       "      <td>1.0</td>\n",
       "      <td>Urban</td>\n",
       "      <td>Y</td>\n",
       "    </tr>\n",
       "  </tbody>\n",
       "</table>\n",
       "</div>"
      ],
      "text/plain": [
       "    Loan_ID Gender Married Dependents     Education Self_Employed  \\\n",
       "0  LP001002   Male      No          0      Graduate            No   \n",
       "1  LP001003   Male     Yes          1      Graduate            No   \n",
       "2  LP001005   Male     Yes          0      Graduate           Yes   \n",
       "3  LP001006   Male     Yes          0  Not Graduate            No   \n",
       "4  LP001008   Male      No          0      Graduate            No   \n",
       "\n",
       "   ApplicantIncome  CoapplicantIncome  LoanAmount  Loan_Amount_Term  \\\n",
       "0             5849                0.0         NaN             360.0   \n",
       "1             4583             1508.0       128.0             360.0   \n",
       "2             3000                0.0        66.0             360.0   \n",
       "3             2583             2358.0       120.0             360.0   \n",
       "4             6000                0.0       141.0             360.0   \n",
       "\n",
       "   Credit_History Property_Area Loan_Status  \n",
       "0             1.0         Urban           Y  \n",
       "1             1.0         Rural           N  \n",
       "2             1.0         Urban           Y  \n",
       "3             1.0         Urban           Y  \n",
       "4             1.0         Urban           Y  "
      ]
     },
<<<<<<< HEAD
     "execution_count": 34,
=======
     "execution_count": 5,
>>>>>>> 1d7e87d7c21010b26f3ccbc1144136437f431fef
     "metadata": {},
     "output_type": "execute_result"
    }
   ],
   "source": [
    "df.head()"
   ]
  },
  {
   "cell_type": "code",
<<<<<<< HEAD
   "execution_count": 35,
=======
   "execution_count": 6,
>>>>>>> 1d7e87d7c21010b26f3ccbc1144136437f431fef
   "metadata": {},
   "outputs": [],
   "source": [
    "#instantiate analyzer from data information class\n",
    "\n",
    "analyzer = DataInfo(df)"
   ]
  },
  {
   "cell_type": "code",
<<<<<<< HEAD
   "execution_count": 36,
=======
   "execution_count": 7,
>>>>>>> 1d7e87d7c21010b26f3ccbc1144136437f431fef
   "metadata": {},
   "outputs": [
    {
     "data": {
      "text/plain": [
       "Index(['Loan_ID', 'Gender', 'Married', 'Dependents', 'Education',\n",
       "       'Self_Employed', 'ApplicantIncome', 'CoapplicantIncome', 'LoanAmount',\n",
       "       'Loan_Amount_Term', 'Credit_History', 'Property_Area', 'Loan_Status'],\n",
       "      dtype='object')"
      ]
     },
<<<<<<< HEAD
     "execution_count": 36,
=======
     "execution_count": 7,
>>>>>>> 1d7e87d7c21010b26f3ccbc1144136437f431fef
     "metadata": {},
     "output_type": "execute_result"
    }
   ],
   "source": [
    "# Get the name of all the columns in the dataset\n",
    "\n",
    "columns = df.columns\n",
    "\n",
    "columns"
   ]
  },
  {
   "cell_type": "code",
<<<<<<< HEAD
   "execution_count": 37,
=======
   "execution_count": 8,
>>>>>>> 1d7e87d7c21010b26f3ccbc1144136437f431fef
   "metadata": {},
   "outputs": [
    {
     "name": "stdout",
     "output_type": "stream",
     "text": [
      "<class 'pandas.core.frame.DataFrame'>\n",
      "RangeIndex: 614 entries, 0 to 613\n",
      "Data columns (total 13 columns):\n",
      " #   Column             Non-Null Count  Dtype  \n",
      "---  ------             --------------  -----  \n",
      " 0   Loan_ID            614 non-null    object \n",
      " 1   Gender             601 non-null    object \n",
      " 2   Married            611 non-null    object \n",
      " 3   Dependents         599 non-null    object \n",
      " 4   Education          614 non-null    object \n",
      " 5   Self_Employed      582 non-null    object \n",
      " 6   ApplicantIncome    614 non-null    int64  \n",
      " 7   CoapplicantIncome  614 non-null    float64\n",
      " 8   LoanAmount         592 non-null    float64\n",
      " 9   Loan_Amount_Term   600 non-null    float64\n",
      " 10  Credit_History     564 non-null    float64\n",
      " 11  Property_Area      614 non-null    object \n",
      " 12  Loan_Status        614 non-null    object \n",
      "dtypes: float64(4), int64(1), object(8)\n",
      "memory usage: 62.5+ KB\n",
      "None\n",
      "None\n"
     ]
    }
   ],
   "source": [
    "# Find the information of the dataset\n",
    "\n",
    "info = analyzer.display_info()\n",
    "\n",
    "print(info)"
   ]
  },
  {
   "cell_type": "code",
<<<<<<< HEAD
   "execution_count": 38,
=======
   "execution_count": 9,
>>>>>>> 1d7e87d7c21010b26f3ccbc1144136437f431fef
   "metadata": {},
   "outputs": [
    {
     "data": {
      "text/plain": [
       "(614, 13)"
      ]
     },
<<<<<<< HEAD
     "execution_count": 38,
=======
     "execution_count": 9,
>>>>>>> 1d7e87d7c21010b26f3ccbc1144136437f431fef
     "metadata": {},
     "output_type": "execute_result"
    }
   ],
   "source": [
    "# Find th shape of the data set ie number of rows and columns\n",
    "\n",
    "shape = analyzer.display_shape()\n",
    "\n",
    "shape"
   ]
  },
  {
   "cell_type": "code",
<<<<<<< HEAD
   "execution_count": 39,
=======
   "execution_count": 10,
>>>>>>> 1d7e87d7c21010b26f3ccbc1144136437f431fef
   "metadata": {},
   "outputs": [
    {
     "data": {
      "text/plain": [
       "Loan_ID              0.000000\n",
       "Gender               2.117264\n",
       "Married              0.488599\n",
       "Dependents           2.442997\n",
       "Education            0.000000\n",
       "Self_Employed        5.211726\n",
       "ApplicantIncome      0.000000\n",
       "CoapplicantIncome    0.000000\n",
       "LoanAmount           3.583062\n",
       "Loan_Amount_Term     2.280130\n",
       "Credit_History       8.143322\n",
       "Property_Area        0.000000\n",
       "Loan_Status          0.000000\n",
       "dtype: float64"
      ]
     },
<<<<<<< HEAD
     "execution_count": 39,
=======
     "execution_count": 10,
>>>>>>> 1d7e87d7c21010b26f3ccbc1144136437f431fef
     "metadata": {},
     "output_type": "execute_result"
    }
   ],
   "source": [
    "# Finding missing values in the dataset and their percentage\n",
    "\n",
    "missing = analyzer.calculate_missing_percentage()\n",
    "\n",
    "missing"
   ]
  },
  {
   "cell_type": "code",
<<<<<<< HEAD
   "execution_count": 40,
=======
   "execution_count": 11,
>>>>>>> 1d7e87d7c21010b26f3ccbc1144136437f431fef
   "metadata": {},
   "outputs": [
    {
     "data": {
      "text/plain": [
       "0.0"
      ]
     },
<<<<<<< HEAD
     "execution_count": 40,
=======
     "execution_count": 11,
>>>>>>> 1d7e87d7c21010b26f3ccbc1144136437f431fef
     "metadata": {},
     "output_type": "execute_result"
    }
   ],
   "source": [
    "#Finding the duplicates in the dataset\n",
    "\n",
    "duplicates = analyzer.calculate_duplicates_percentage()\n",
    "\n",
    "duplicates"
   ]
  },
  {
   "cell_type": "code",
<<<<<<< HEAD
   "execution_count": 41,
=======
   "execution_count": 12,
>>>>>>> 1d7e87d7c21010b26f3ccbc1144136437f431fef
   "metadata": {},
   "outputs": [
    {
     "name": "stderr",
     "output_type": "stream",
     "text": [
      "/tmp/ipykernel_6554/561794282.py:3: FutureWarning: The default value of numeric_only in DataFrame.corr is deprecated. In a future version, it will default to False. Select only valid columns or specify the value of numeric_only to silence this warning.\n",
      "  matrix = df.corr()\n"
     ]
    },
    {
     "data": {
      "image/png": "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",
      "text/plain": [
       "<Figure size 900x600 with 2 Axes>"
      ]
     },
     "metadata": {},
     "output_type": "display_data"
    }
   ],
   "source": [
    "# Finding the correlation betweem the variables\n",
    "\n",
    "matrix = df.corr()\n",
    "f, ax = plt.subplots(figsize=(9, 6)) \n",
    "sns.heatmap(matrix, vmax=.8, cmap=\"BuPu\", square=True, annot=True);"
   ]
  },
  {
   "cell_type": "code",
<<<<<<< HEAD
   "execution_count": 42,
=======
   "execution_count": 13,
>>>>>>> 1d7e87d7c21010b26f3ccbc1144136437f431fef
   "metadata": {},
   "outputs": [],
   "source": [
    "#use simple imputer to fill missing values and mean strategy\n",
    "\n",
    "imputer = SimpleImputer(missing_values=np.nan, strategy='mean')\n",
    "loan_n = df.iloc[:, 8:11]\n",
    "dependat =df['Dependents']\n",
    "dependat = dependat.replace('3+', 3)\n",
    "loan_n1 = df.iloc[:, 3:4]\n",
    "imputer.fit(loan_n)\n",
    "loan_n = imputer.transform(loan_n)\n",
    "loan_d = pd.DataFrame(loan_n)"
   ]
  },
  {
   "cell_type": "code",
<<<<<<< HEAD
   "execution_count": 43,
=======
   "execution_count": 14,
>>>>>>> 1d7e87d7c21010b26f3ccbc1144136437f431fef
   "metadata": {},
   "outputs": [],
   "source": [
    "#Assign the column names to the dataframe\n",
    "df['LoanAmount'],df['Loan_Amount_Term'], df['Credit_History'] = loan_d[0], loan_d[1], loan_d[2]"
   ]
  },
  {
   "cell_type": "code",
<<<<<<< HEAD
   "execution_count": 44,
=======
   "execution_count": 15,
>>>>>>> 1d7e87d7c21010b26f3ccbc1144136437f431fef
   "metadata": {},
   "outputs": [],
   "source": [
    "# Impute other null variables\n",
    "employ = df['Self_Employed']\n",
    "P_area = df['Property_Area']\n",
    "gender = df[\"Gender\"]\n",
    "status = df[\"Married\"]\n",
    "education = df[\"Education\"]\n",
    "loan_status = df['Loan_Status']\n",
    "\n",
    "status = status.fillna(\"Yes\")\n",
    "gender = gender.fillna(\"Male\")\n",
    "P_area= P_area.fillna(\"Rural\")\n",
    "employ= employ.fillna(\"Yes\")\n",
    "dependat = dependat.fillna(1)"
   ]
  },
  {
   "cell_type": "code",
<<<<<<< HEAD
   "execution_count": 45,
=======
   "execution_count": 16,
>>>>>>> 1d7e87d7c21010b26f3ccbc1144136437f431fef
   "metadata": {},
   "outputs": [],
   "source": [
    "# Import LabelEncoder\n",
    "from sklearn.preprocessing import LabelEncoder\n",
    "label_encoder = LabelEncoder()"
   ]
  },
  {
   "cell_type": "code",
<<<<<<< HEAD
   "execution_count": 46,
=======
   "execution_count": 17,
>>>>>>> 1d7e87d7c21010b26f3ccbc1144136437f431fef
   "metadata": {},
   "outputs": [],
   "source": [
    "# Initialize string variables to be Encoded\n",
    "\n",
    "input_class = [\"Male\", \"Female\"]\n",
    "input_class1 = [\"Yes\", \"No\"]\n",
    "input_class2 = [\"Rural\", \"Urban\", \"Semiurban\"]\n",
    "input_class3 = [\"Graduate\", \"Not Graduate\"]\n",
    "input_class4 = [\"Y\", \"N\"]\n",
    "\n",
    "label_encoder.fit(input_class)\n",
    "\n",
    "gender = gender.iloc[:].values\n",
    "gender = list(gender)\n",
    "gender = label_encoder.transform(gender)\n",
    "\n",
    "label_encoder.fit(input_class1)\n",
    "\n",
    "status = status.iloc[:].values\n",
    "employ = employ.iloc[:].values\n",
    "employ = list(employ)\n",
    "status = list(status)\n",
    "status = label_encoder.transform(status)\n",
    "employ = label_encoder.transform(employ)\n",
    "\n",
    "label_encoder.fit(input_class2)\n",
    "P_area = P_area.iloc[:].values\n",
    "P_area = list(P_area)\n",
    "P_area = label_encoder.transform(P_area)\n",
    "\n",
    "label_encoder.fit(input_class3)\n",
    "\n",
    "education = education.iloc[:].values\n",
    "education = list(education)\n",
    "education = label_encoder.transform(education)\n",
    "\n",
    "label_encoder.fit(input_class4)\n",
    "\n",
    "loan_status = loan_status.iloc[:].values\n",
    "loan_status =list(loan_status)\n",
    "loan_status = label_encoder.transform(loan_status)\n"
   ]
  },
  {
   "cell_type": "code",
<<<<<<< HEAD
   "execution_count": 47,
=======
   "execution_count": 18,
>>>>>>> 1d7e87d7c21010b26f3ccbc1144136437f431fef
   "metadata": {},
   "outputs": [],
   "source": [
    "# Create a new dataframe with the encoded variables\n",
    "df['Education'],df['Self_Employed'],df['Property_Area'],df[\"Gender\"],df[\"Married\"], df['Loan_Status'], df['Dependents'] =education, employ, P_area, gender, status, loan_status, dependat"
   ]
  },
  {
   "cell_type": "code",
<<<<<<< HEAD
   "execution_count": 48,
=======
   "execution_count": 19,
>>>>>>> 1d7e87d7c21010b26f3ccbc1144136437f431fef
   "metadata": {},
   "outputs": [],
   "source": [
    "# Write the encoded dataframe to a csv file\n",
    "df.head()\n",
    "df.to_csv(\"Loan_Processed_data.csv\")"
   ]
  },
  {
   "cell_type": "code",
<<<<<<< HEAD
   "execution_count": 49,
=======
   "execution_count": 20,
>>>>>>> 1d7e87d7c21010b26f3ccbc1144136437f431fef
   "metadata": {},
   "outputs": [],
   "source": [
    "# Create a data and target for the model\n",
    "data = df.iloc[:, 1:-1]\n",
    "target = df.iloc[:, -1:]"
   ]
  },
  {
   "cell_type": "code",
<<<<<<< HEAD
   "execution_count": 50,
=======
   "execution_count": 21,
>>>>>>> 1d7e87d7c21010b26f3ccbc1144136437f431fef
   "metadata": {},
   "outputs": [
    {
     "data": {
      "text/html": [
       "<div>\n",
       "<style scoped>\n",
       "    .dataframe tbody tr th:only-of-type {\n",
       "        vertical-align: middle;\n",
       "    }\n",
       "\n",
       "    .dataframe tbody tr th {\n",
       "        vertical-align: top;\n",
       "    }\n",
       "\n",
       "    .dataframe thead th {\n",
       "        text-align: right;\n",
       "    }\n",
       "</style>\n",
       "<table border=\"1\" class=\"dataframe\">\n",
       "  <thead>\n",
       "    <tr style=\"text-align: right;\">\n",
       "      <th></th>\n",
       "      <th>Gender</th>\n",
       "      <th>Married</th>\n",
       "      <th>Dependents</th>\n",
       "      <th>Education</th>\n",
       "      <th>Self_Employed</th>\n",
       "      <th>ApplicantIncome</th>\n",
       "      <th>CoapplicantIncome</th>\n",
       "      <th>LoanAmount</th>\n",
       "      <th>Loan_Amount_Term</th>\n",
       "      <th>Credit_History</th>\n",
       "      <th>Property_Area</th>\n",
       "    </tr>\n",
       "  </thead>\n",
       "  <tbody>\n",
       "    <tr>\n",
       "      <th>0</th>\n",
       "      <td>1</td>\n",
       "      <td>0</td>\n",
       "      <td>0</td>\n",
       "      <td>0</td>\n",
       "      <td>0</td>\n",
       "      <td>5849</td>\n",
       "      <td>0.0</td>\n",
       "      <td>146.412162</td>\n",
       "      <td>360.0</td>\n",
       "      <td>1.0</td>\n",
       "      <td>2</td>\n",
       "    </tr>\n",
       "    <tr>\n",
       "      <th>1</th>\n",
       "      <td>1</td>\n",
       "      <td>1</td>\n",
       "      <td>1</td>\n",
       "      <td>0</td>\n",
       "      <td>0</td>\n",
       "      <td>4583</td>\n",
       "      <td>1508.0</td>\n",
       "      <td>128.000000</td>\n",
       "      <td>360.0</td>\n",
       "      <td>1.0</td>\n",
       "      <td>0</td>\n",
       "    </tr>\n",
       "    <tr>\n",
       "      <th>2</th>\n",
       "      <td>1</td>\n",
       "      <td>1</td>\n",
       "      <td>0</td>\n",
       "      <td>0</td>\n",
       "      <td>1</td>\n",
       "      <td>3000</td>\n",
       "      <td>0.0</td>\n",
       "      <td>66.000000</td>\n",
       "      <td>360.0</td>\n",
       "      <td>1.0</td>\n",
       "      <td>2</td>\n",
       "    </tr>\n",
       "    <tr>\n",
       "      <th>3</th>\n",
       "      <td>1</td>\n",
       "      <td>1</td>\n",
       "      <td>0</td>\n",
       "      <td>1</td>\n",
       "      <td>0</td>\n",
       "      <td>2583</td>\n",
       "      <td>2358.0</td>\n",
       "      <td>120.000000</td>\n",
       "      <td>360.0</td>\n",
       "      <td>1.0</td>\n",
       "      <td>2</td>\n",
       "    </tr>\n",
       "    <tr>\n",
       "      <th>4</th>\n",
       "      <td>1</td>\n",
       "      <td>0</td>\n",
       "      <td>0</td>\n",
       "      <td>0</td>\n",
       "      <td>0</td>\n",
       "      <td>6000</td>\n",
       "      <td>0.0</td>\n",
       "      <td>141.000000</td>\n",
       "      <td>360.0</td>\n",
       "      <td>1.0</td>\n",
       "      <td>2</td>\n",
       "    </tr>\n",
       "  </tbody>\n",
       "</table>\n",
       "</div>"
      ],
      "text/plain": [
       "   Gender  Married Dependents  Education  Self_Employed  ApplicantIncome  \\\n",
       "0       1        0          0          0              0             5849   \n",
       "1       1        1          1          0              0             4583   \n",
       "2       1        1          0          0              1             3000   \n",
       "3       1        1          0          1              0             2583   \n",
       "4       1        0          0          0              0             6000   \n",
       "\n",
       "   CoapplicantIncome  LoanAmount  Loan_Amount_Term  Credit_History  \\\n",
       "0                0.0  146.412162             360.0             1.0   \n",
       "1             1508.0  128.000000             360.0             1.0   \n",
       "2                0.0   66.000000             360.0             1.0   \n",
       "3             2358.0  120.000000             360.0             1.0   \n",
       "4                0.0  141.000000             360.0             1.0   \n",
       "\n",
       "   Property_Area  \n",
       "0              2  \n",
       "1              0  \n",
       "2              2  \n",
       "3              2  \n",
       "4              2  "
      ]
     },
<<<<<<< HEAD
     "execution_count": 50,
=======
     "execution_count": 21,
>>>>>>> 1d7e87d7c21010b26f3ccbc1144136437f431fef
     "metadata": {},
     "output_type": "execute_result"
    }
   ],
   "source": [
    "# check at the 'data' dataframe\n",
    "data.head(5)"
   ]
  },
  {
   "cell_type": "code",
<<<<<<< HEAD
   "execution_count": 51,
   "metadata": {},
   "outputs": [
    {
     "data": {
      "text/html": [
       "<div>\n",
       "<style scoped>\n",
       "    .dataframe tbody tr th:only-of-type {\n",
       "        vertical-align: middle;\n",
       "    }\n",
       "\n",
       "    .dataframe tbody tr th {\n",
       "        vertical-align: top;\n",
       "    }\n",
       "\n",
       "    .dataframe thead th {\n",
       "        text-align: right;\n",
       "    }\n",
       "</style>\n",
       "<table border=\"1\" class=\"dataframe\">\n",
       "  <thead>\n",
       "    <tr style=\"text-align: right;\">\n",
       "      <th></th>\n",
       "      <th>Loan_Status</th>\n",
       "    </tr>\n",
       "  </thead>\n",
       "  <tbody>\n",
       "    <tr>\n",
       "      <th>0</th>\n",
       "      <td>1</td>\n",
       "    </tr>\n",
       "    <tr>\n",
       "      <th>1</th>\n",
       "      <td>0</td>\n",
       "    </tr>\n",
       "    <tr>\n",
       "      <th>2</th>\n",
       "      <td>1</td>\n",
       "    </tr>\n",
       "    <tr>\n",
       "      <th>3</th>\n",
       "      <td>1</td>\n",
       "    </tr>\n",
       "  </tbody>\n",
       "</table>\n",
       "</div>"
      ],
      "text/plain": [
       "   Loan_Status\n",
       "0            1\n",
       "1            0\n",
       "2            1\n",
       "3            1"
      ]
     },
     "execution_count": 51,
     "metadata": {},
     "output_type": "execute_result"
    }
   ],
   "source": [
    "#check 'target' dataframe\n",
    "target.head(4)"
   ]
  },
  {
   "cell_type": "code",
   "execution_count": 52,
   "metadata": {},
   "outputs": [],
   "source": [
    "# Write the dataframes to csv files\n",
    "data.to_csv(\"Data.csv\")\n",
    "target.to_csv(\"Target.csv\")"
   ]
  },
  {
   "cell_type": "markdown",
   "metadata": {},
   "source": [
    "### Handling Outliers\n"
   ]
  },
  {
   "cell_type": "code",
   "execution_count": 1,
   "metadata": {},
   "outputs": [
    {
     "ename": "ModuleNotFoundError",
     "evalue": "No module named 'tkinter'",
     "output_type": "error",
     "traceback": [
      "\u001b[0;31m---------------------------------------------------------------------------\u001b[0m",
      "\u001b[0;31mModuleNotFoundError\u001b[0m                       Traceback (most recent call last)",
      "Cell \u001b[0;32mIn[1], line 3\u001b[0m\n\u001b[1;32m      1\u001b[0m \u001b[38;5;66;03m#Find outliers in the dataset\u001b[39;00m\n\u001b[0;32m----> 3\u001b[0m \u001b[38;5;28;01mfrom\u001b[39;00m \u001b[38;5;21;01mturtle\u001b[39;00m \u001b[38;5;28;01mimport\u001b[39;00m title\n\u001b[1;32m      4\u001b[0m sns\u001b[38;5;241m.\u001b[39mboxplot(x\u001b[38;5;241m=\u001b[39mdf[\u001b[38;5;124m'\u001b[39m\u001b[38;5;124mLoanAmount\u001b[39m\u001b[38;5;124m'\u001b[39m], color\u001b[38;5;241m=\u001b[39m\u001b[38;5;124m\"\u001b[39m\u001b[38;5;124mpurple\u001b[39m\u001b[38;5;124m\"\u001b[39m)\n",
      "File \u001b[0;32m/usr/lib/python3.8/turtle.py:107\u001b[0m\n\u001b[1;32m    103\u001b[0m _ver \u001b[38;5;241m=\u001b[39m \u001b[38;5;124m\"\u001b[39m\u001b[38;5;124mturtle 1.1b- - for Python 3.1   -  4. 5. 2009\u001b[39m\u001b[38;5;124m\"\u001b[39m\n\u001b[1;32m    105\u001b[0m \u001b[38;5;66;03m# print(_ver)\u001b[39;00m\n\u001b[0;32m--> 107\u001b[0m \u001b[38;5;28;01mimport\u001b[39;00m \u001b[38;5;21;01mtkinter\u001b[39;00m \u001b[38;5;28;01mas\u001b[39;00m \u001b[38;5;21;01mTK\u001b[39;00m\n\u001b[1;32m    108\u001b[0m \u001b[38;5;28;01mimport\u001b[39;00m \u001b[38;5;21;01mtypes\u001b[39;00m\n\u001b[1;32m    109\u001b[0m \u001b[38;5;28;01mimport\u001b[39;00m \u001b[38;5;21;01mmath\u001b[39;00m\n",
      "\u001b[0;31mModuleNotFoundError\u001b[0m: No module named 'tkinter'"
     ]
=======
   "execution_count": 22,
   "metadata": {},
   "outputs": [
    {
     "data": {
      "text/plain": [
       "<Axes: xlabel='LoanAmount'>"
      ]
     },
     "execution_count": 22,
     "metadata": {},
     "output_type": "execute_result"
    },
    {
     "data": {
      "image/png": "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",
      "text/plain": [
       "<Figure size 640x480 with 1 Axes>"
      ]
     },
     "metadata": {},
     "output_type": "display_data"
>>>>>>> 1d7e87d7c21010b26f3ccbc1144136437f431fef
    }
   ],
   "source": [
    "#Find outliers in the dataset\n",
    "\n",
    "from turtle import title\n",
    "sns.boxplot(x=df['LoanAmount'], color=\"purple\")"
   ]
  },
  {
   "cell_type": "markdown",
   "metadata": {},
   "source": [
    "* Observing the dataset, it becomes evident that there are outliers among lon applicants seeking amounts within the 600K to 700K range. The majority of data is concentrated on the left, while the right side is less dense, indicating a right-skewed distribution. To address this skewness, applying a log transformation could be a suitable corrective measure."
   ]
  },
  {
   "cell_type": "markdown",
   "metadata": {},
   "source": [
    "# MODELING"
   ]
  },
  {
   "cell_type": "markdown",
   "metadata": {},
   "source": [
    "## Preparing Data for Modelling"
   ]
  },
  {
   "cell_type": "markdown",
   "metadata": {},
   "source": [
    "### Splitting the Data"
   ]
  },
  {
   "cell_type": "code",
   "execution_count": 23,
   "metadata": {},
   "outputs": [],
   "source": [
    "# split the data\n",
    "x_train, x_test, y_train, y_test = train_test_split(data, target, test_size= 0.2, random_state=10)"
   ]
  },
  {
   "cell_type": "code",
   "execution_count": 24,
   "metadata": {},
   "outputs": [
    {
     "name": "stdout",
     "output_type": "stream",
     "text": [
      "(491, 11)\n",
      "(123, 11)\n"
     ]
    }
   ],
   "source": [
    "# print the shape of the training and testing data\n",
    "print(x_train.shape)\n",
    "print(x_test.shape)\n"
   ]
  },
  {
   "cell_type": "code",
   "execution_count": null,
   "metadata": {},
   "outputs": [],
   "source": [
    "#print the size of the training and testing data\n",
    "print(\"The size of \")"
   ]
  }
 ],
 "metadata": {
  "kernelspec": {
   "display_name": "Python 3",
   "language": "python",
   "name": "python3"
  },
  "language_info": {
   "codemirror_mode": {
    "name": "ipython",
    "version": 3
   },
   "file_extension": ".py",
   "mimetype": "text/x-python",
   "name": "python",
   "nbconvert_exporter": "python",
   "pygments_lexer": "ipython3",
   "version": "3.8.10"
  }
 },
 "nbformat": 4,
 "nbformat_minor": 2
}
